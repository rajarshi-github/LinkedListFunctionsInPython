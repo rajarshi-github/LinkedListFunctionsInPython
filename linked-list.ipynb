{
 "cells": [
  {
   "cell_type": "code",
   "execution_count": 493,
   "metadata": {},
   "outputs": [],
   "source": [
    "class LinkedListError(Exception):\n",
    "    pass\n",
    "\n",
    "class Node():\n",
    "    def __init__(self, data):\n",
    "        self.data = data\n",
    "        self.next = None\n",
    "class SinglyLinkedList():\n",
    "    \n",
    "    def __init__(self):\n",
    "        self.head = None\n",
    "        self.length = 0\n",
    "        \n",
    "    def __str__(self):\n",
    "        s = ''\n",
    "        length = 0\n",
    "        \n",
    "        temp = self.head\n",
    "        while temp != None:\n",
    "            s += f\"{temp.data}=>\"\n",
    "            length += 1\n",
    "            temp = temp.next\n",
    "        else:\n",
    "            s += f\"END\"\n",
    "        s += \", Length = \" + str(length)         \n",
    "        return s\n",
    "\n",
    "    def __len__(self):\n",
    "        return self.length\n",
    "    \n",
    "    def getNodeValue(self, nodeposition=0):\n",
    "        temp = self.head\n",
    "        idx = 0\n",
    "        while temp != None:\n",
    "            idx += 1\n",
    "            if idx == nodeposition:\n",
    "                return temp.data\n",
    "            temp = temp.next\n",
    "        if idx < nodeposition:\n",
    "            return None\n",
    "            \n",
    "            \n",
    "    @staticmethod\n",
    "    def reverse(head):\n",
    "        temp = head\n",
    "        \n",
    "        if temp != None:\n",
    "            SinglyLinkedList.reverse(temp.next)\n",
    "            print(temp.data, end=\"<-\")\n",
    "        else:\n",
    "            return\n",
    "        \n",
    "    @staticmethod    \n",
    "    def sortedList(llist):\n",
    "        \n",
    "        if llist.length == 0:\n",
    "            raise LinkedListError(\"Input list is empty - nothing to sort\")\n",
    "        \n",
    "        sortedLst = SinglyLinkedList()\n",
    "        \n",
    "        temp = llist.head\n",
    "        \n",
    "        new = Node(data=temp.data)\n",
    "        sortedLst.head = new\n",
    "        sortedLst.length += 1\n",
    "        \n",
    "        \n",
    "        while temp.next != None:\n",
    "            \n",
    "            temp_retLst = sortedLst.head\n",
    "        \n",
    "            print(\"sortedLst : \", str(sortedLst))\n",
    "\n",
    "            temp = temp.next\n",
    "            \n",
    "            print(f\"Inserting {temp.data} into its correct position in sortedLst with Head={type(sortedLst.head)} length={sortedLst.length}\")\n",
    "            \n",
    "            # determine the position where to put the data\n",
    "            pos_retLst = 0\n",
    "            while temp_retLst != None:\n",
    "                print (f\"{temp.data=} , {temp_retLst.data=}, {pos_retLst=}\")\n",
    "                if temp.data > temp_retLst.data:\n",
    "                    temp_retLst = temp_retLst.next\n",
    "                    pos_retLst += 1\n",
    "                else:\n",
    "                    break\n",
    "                    \n",
    "            # Insert the new data node        \n",
    "            print(f\"Inserting {temp.data} into  {pos_retLst}, length={sortedLst.length}\")\n",
    "            if pos_retLst == sortedLst.length:\n",
    "                sortedLst.insertNodeAtLast(data=temp.data)\n",
    "            else:\n",
    "                sortedLst.insertNodeAtPosition(position=pos_retLst, data=temp.data)\n",
    "                    \n",
    "            print(\"sortedLst : \", str(sortedLst))\n",
    "            \n",
    "        return sortedLst\n",
    "        \n",
    "    def delDuplicateNodesAfterSorting (self):\n",
    "        temp = self.head\n",
    "        idx = 0\n",
    "        while temp != None:\n",
    "            if temp.next == None:\n",
    "                print(\"Reached end of list\")\n",
    "                break\n",
    "            else:\n",
    "                nextNode = temp.next\n",
    "            if temp.data == nextNode.data:\n",
    "                print(f\"Duplicate node data ... {temp.data} ... Deleting node at position = {idx}\")\n",
    "                self.deleteNode(position=idx)\n",
    "            temp = temp.next\n",
    "            idx += 1\n",
    "        \n",
    "            \n",
    "    def insertNodeAtLast(self, data):\n",
    "        if self.head is None:\n",
    "            print(f\"Inserting {data} at the first of empty list ... \")\n",
    "            self.head = Node(data)\n",
    "            self.length = 1\n",
    "            print(f\"Head: {type(self.head)}, Length: {self.length}\")\n",
    "        else:\n",
    "            print(f\"Inserting {data} at the last ... \")\n",
    "            temp = self.head\n",
    "            while True:\n",
    "                if temp.next is None:\n",
    "                    break\n",
    "                else:\n",
    "                    temp = temp.next\n",
    "                    \n",
    "            new = Node(data)\n",
    "            temp.next = new\n",
    "            self.length += 1\n",
    "            print(f\"Head: {type(self.head)}, Length: {self.length}\")\n",
    "        \n",
    "    def insertNodeAtPosition(self, data, position):\n",
    "        print(f\"Inserting {data} at the position {position} ... \")\n",
    "        if self.head is None:\n",
    "            if position == 0:\n",
    "                new = Node(data)\n",
    "                self.head = new\n",
    "                self.length = 1\n",
    "            else:\n",
    "                raise ValueError(\"List is empty and position to be inserted is not 0.\")\n",
    "        else:\n",
    "            if position > self.length:\n",
    "                raise LinkedListError(\"Only \" + str(self.length) + \" elements in the linked list \" +\n",
    "                                      \"and position asked is \" + str(position) \n",
    "                                     )\n",
    "            else:\n",
    "                temp = self.head\n",
    "                if position == 0:\n",
    "                    new = Node(data)\n",
    "                    new.next = temp\n",
    "                    self.head = new\n",
    "                    self.length += 1\n",
    "                else:\n",
    "                    idx = 1\n",
    "                    while idx < position:\n",
    "                        idx += 1\n",
    "                        if temp != None:\n",
    "                            temp = temp.next\n",
    "                    else:\n",
    "                        new = Node(data)\n",
    "                        new.next = temp.next\n",
    "                        temp.next = new\n",
    "                        self.length += 1\n",
    "        print(f\"Head: {type(self.head)}, Length: {self.length}\")\n",
    "\n",
    "\n",
    "    def deleteNode(self, position):\n",
    "\n",
    "        if self.length == 0:\n",
    "            raise LinkedListError(\"Empty list - nothing to delete\")\n",
    "        else:\n",
    "            idx = 0\n",
    "            temp = self.head\n",
    "\n",
    "            if temp.next is None:\n",
    "                if position == 0:\n",
    "                    print(f\"Delete 0-th (first) node = {temp.data} ... \")\n",
    "                    self.head = None\n",
    "                    self.length = 0\n",
    "                    del temp\n",
    "                else:\n",
    "                    raise LinkedListError(\"List has only one element\")\n",
    "            else:\n",
    "                idx = 0\n",
    "                prev = None\n",
    "                while idx < position:\n",
    "                    if temp.next != None:\n",
    "                        prev = temp\n",
    "                        temp = temp.next\n",
    "                    else:\n",
    "                        raise LinkedListError(\"List has only \" + str(idx + 1) + \" elements, \" +\n",
    "                                              \"position asked for deletion = \" + str(position) + \n",
    "                                              \", \" + str(position+1) + \"-th index\"\n",
    "                                             )\n",
    "                    idx += 1\n",
    "                else:\n",
    "                    print(f\"Delete this node = {temp.data} at position = {position}\")\n",
    "                    if prev is None:\n",
    "                        llist.head = temp.next\n",
    "                    else:\n",
    "                        prev.next = temp.next\n",
    "                    del temp\n",
    "                    self.length -= 1\n",
    "        print(f\"Head: {type(self.head)}, Length: {self.length}\")\n"
   ]
  },
  {
   "cell_type": "code",
   "execution_count": 494,
   "metadata": {
    "collapsed": true
   },
   "outputs": [
    {
     "name": "stdout",
     "output_type": "stream",
     "text": [
      "Inserting 16 at the first of empty list ... \n",
      "Head: <class '__main__.Node'>, Length: 1\n",
      "Inserting 13 at the last ... \n",
      "Head: <class '__main__.Node'>, Length: 2\n",
      "Inserting 7 at the last ... \n",
      "Head: <class '__main__.Node'>, Length: 3\n",
      "16=>13=>7=>END, Length = 3\n",
      "Inserting 37 at the position 2 ... \n",
      "Head: <class '__main__.Node'>, Length: 4\n",
      "16=>13=>37=>7=>END, Length = 4\n",
      "Inserting 12 at the position 1 ... \n",
      "Head: <class '__main__.Node'>, Length: 5\n",
      "16=>12=>13=>37=>7=>END, Length = 5\n",
      "Inserting 99 at the position 0 ... \n",
      "Head: <class '__main__.Node'>, Length: 6\n",
      "99=>16=>12=>13=>37=>7=>END, Length = 6\n",
      "Inserting 9 at the position 4 ... \n",
      "Head: <class '__main__.Node'>, Length: 7\n",
      "99=>16=>12=>13=>9=>37=>7=>END, Length = 7\n",
      "Inserting 29 at the position 8 ... \n",
      "Only 7 elements in the linked list and position asked is 8\n"
     ]
    }
   ],
   "source": [
    "try:\n",
    "    llist = SinglyLinkedList()\n",
    "    items = [16,13,7]\n",
    "\n",
    "    for item in items:\n",
    "        llist.insertNodeAtLast(item)\n",
    "    print(str(llist))\n",
    "\n",
    "    llist.insertNodeAtPosition( data=37, position=2)\n",
    "    print(str(llist))\n",
    "\n",
    "    llist.insertNodeAtPosition( data=12, position=1)\n",
    "    print(str(llist))\n",
    "\n",
    "    llist.insertNodeAtPosition( data=99, position=0)\n",
    "    print(str(llist))\n",
    "\n",
    "    llist.insertNodeAtPosition( data=9, position=4)\n",
    "    print(str(llist))\n",
    "\n",
    "    llist.insertNodeAtPosition( data=29, position=8)\n",
    "    print(str(llist))\n",
    "\n",
    "    llist.insertNodeAtPosition( data=19, position=0)\n",
    "    print(str(llist))\n",
    "except LinkedListError as err:\n",
    "    print(err)\n",
    "except:\n",
    "    print(\"other error\")"
   ]
  },
  {
   "cell_type": "code",
   "execution_count": 472,
   "metadata": {},
   "outputs": [
    {
     "data": {
      "text/plain": [
       "'99=>16=>12=>13=>9=>37=>7=>END, Length = 7'"
      ]
     },
     "execution_count": 472,
     "metadata": {},
     "output_type": "execute_result"
    }
   ],
   "source": [
    "str(llist)"
   ]
  },
  {
   "cell_type": "code",
   "execution_count": 473,
   "metadata": {},
   "outputs": [
    {
     "name": "stdout",
     "output_type": "stream",
     "text": [
      "16\n"
     ]
    }
   ],
   "source": [
    "print(llist.getNodeValue(2))"
   ]
  },
  {
   "cell_type": "code",
   "execution_count": 474,
   "metadata": {},
   "outputs": [
    {
     "name": "stdout",
     "output_type": "stream",
     "text": [
      "None\n"
     ]
    }
   ],
   "source": [
    "print(llist.getNodeValue(8))"
   ]
  },
  {
   "cell_type": "code",
   "execution_count": 475,
   "metadata": {},
   "outputs": [
    {
     "name": "stdout",
     "output_type": "stream",
     "text": [
      "7\n"
     ]
    }
   ],
   "source": [
    "print(llist.getNodeValue(7))"
   ]
  },
  {
   "cell_type": "code",
   "execution_count": 476,
   "metadata": {},
   "outputs": [
    {
     "name": "stdout",
     "output_type": "stream",
     "text": [
      "99\n"
     ]
    }
   ],
   "source": [
    "print(llist.getNodeValue(1))"
   ]
  },
  {
   "cell_type": "code",
   "execution_count": 477,
   "metadata": {},
   "outputs": [
    {
     "name": "stdout",
     "output_type": "stream",
     "text": [
      "None\n"
     ]
    }
   ],
   "source": [
    "print(llist.getNodeValue(0))"
   ]
  },
  {
   "cell_type": "code",
   "execution_count": 478,
   "metadata": {},
   "outputs": [
    {
     "name": "stdout",
     "output_type": "stream",
     "text": [
      "7<-37<-9<-13<-12<-16<-99<-"
     ]
    }
   ],
   "source": [
    "SinglyLinkedList.reverse(llist.head)"
   ]
  },
  {
   "cell_type": "code",
   "execution_count": null,
   "metadata": {},
   "outputs": [],
   "source": []
  },
  {
   "cell_type": "code",
   "execution_count": null,
   "metadata": {},
   "outputs": [],
   "source": []
  },
  {
   "cell_type": "code",
   "execution_count": 495,
   "metadata": {},
   "outputs": [
    {
     "name": "stdout",
     "output_type": "stream",
     "text": [
      "sortedLst :  99=>END, Length = 1\n",
      "Inserting 16 into its correct position in sortedLst with Head=<class '__main__.Node'> length=1\n",
      "temp.data=16 , temp_retLst.data=99, pos_retLst=0\n",
      "Inserting 16 into  0, length=1\n",
      "Inserting 16 at the position 0 ... \n",
      "Head: <class '__main__.Node'>, Length: 2\n",
      "sortedLst :  16=>99=>END, Length = 2\n",
      "sortedLst :  16=>99=>END, Length = 2\n",
      "Inserting 12 into its correct position in sortedLst with Head=<class '__main__.Node'> length=2\n",
      "temp.data=12 , temp_retLst.data=16, pos_retLst=0\n",
      "Inserting 12 into  0, length=2\n",
      "Inserting 12 at the position 0 ... \n",
      "Head: <class '__main__.Node'>, Length: 3\n",
      "sortedLst :  12=>16=>99=>END, Length = 3\n",
      "sortedLst :  12=>16=>99=>END, Length = 3\n",
      "Inserting 13 into its correct position in sortedLst with Head=<class '__main__.Node'> length=3\n",
      "temp.data=13 , temp_retLst.data=12, pos_retLst=0\n",
      "temp.data=13 , temp_retLst.data=16, pos_retLst=1\n",
      "Inserting 13 into  1, length=3\n",
      "Inserting 13 at the position 1 ... \n",
      "Head: <class '__main__.Node'>, Length: 4\n",
      "sortedLst :  12=>13=>16=>99=>END, Length = 4\n",
      "sortedLst :  12=>13=>16=>99=>END, Length = 4\n",
      "Inserting 9 into its correct position in sortedLst with Head=<class '__main__.Node'> length=4\n",
      "temp.data=9 , temp_retLst.data=12, pos_retLst=0\n",
      "Inserting 9 into  0, length=4\n",
      "Inserting 9 at the position 0 ... \n",
      "Head: <class '__main__.Node'>, Length: 5\n",
      "sortedLst :  9=>12=>13=>16=>99=>END, Length = 5\n",
      "sortedLst :  9=>12=>13=>16=>99=>END, Length = 5\n",
      "Inserting 37 into its correct position in sortedLst with Head=<class '__main__.Node'> length=5\n",
      "temp.data=37 , temp_retLst.data=9, pos_retLst=0\n",
      "temp.data=37 , temp_retLst.data=12, pos_retLst=1\n",
      "temp.data=37 , temp_retLst.data=13, pos_retLst=2\n",
      "temp.data=37 , temp_retLst.data=16, pos_retLst=3\n",
      "temp.data=37 , temp_retLst.data=99, pos_retLst=4\n",
      "Inserting 37 into  4, length=5\n",
      "Inserting 37 at the position 4 ... \n",
      "Head: <class '__main__.Node'>, Length: 6\n",
      "sortedLst :  9=>12=>13=>16=>37=>99=>END, Length = 6\n",
      "sortedLst :  9=>12=>13=>16=>37=>99=>END, Length = 6\n",
      "Inserting 7 into its correct position in sortedLst with Head=<class '__main__.Node'> length=6\n",
      "temp.data=7 , temp_retLst.data=9, pos_retLst=0\n",
      "Inserting 7 into  0, length=6\n",
      "Inserting 7 at the position 0 ... \n",
      "Head: <class '__main__.Node'>, Length: 7\n",
      "sortedLst :  7=>9=>12=>13=>16=>37=>99=>END, Length = 7\n"
     ]
    }
   ],
   "source": [
    "sortedLst = SinglyLinkedList.sortedList(llist)"
   ]
  },
  {
   "cell_type": "code",
   "execution_count": 496,
   "metadata": {},
   "outputs": [
    {
     "data": {
      "text/plain": [
       "'7=>9=>12=>13=>16=>37=>99=>END, Length = 7'"
      ]
     },
     "execution_count": 496,
     "metadata": {},
     "output_type": "execute_result"
    }
   ],
   "source": [
    "str(sortedLst)"
   ]
  },
  {
   "cell_type": "code",
   "execution_count": 497,
   "metadata": {},
   "outputs": [
    {
     "data": {
      "text/plain": [
       "'99=>16=>12=>13=>9=>37=>7=>END, Length = 7'"
      ]
     },
     "execution_count": 497,
     "metadata": {},
     "output_type": "execute_result"
    }
   ],
   "source": [
    "str(llist)"
   ]
  },
  {
   "cell_type": "code",
   "execution_count": null,
   "metadata": {},
   "outputs": [],
   "source": []
  },
  {
   "cell_type": "code",
   "execution_count": 422,
   "metadata": {},
   "outputs": [
    {
     "name": "stdout",
     "output_type": "stream",
     "text": [
      "str(llist)='99=>16=>12=>13=>9=>37=>7=>END, Length = 7'\n",
      "Delete this node = 16 at position = 1\n",
      "Head: <class '__main__.Node'>, Length: 6\n",
      "str(llist)='99=>12=>13=>9=>37=>7=>END, Length = 6'\n",
      "Delete this node = 99 at position = 0\n",
      "Head: <class '__main__.Node'>, Length: 5\n",
      "str(llist)='12=>13=>9=>37=>7=>END, Length = 5'\n",
      "List has only 5 elements, position asked for deletion = 6, 7-th index\n"
     ]
    }
   ],
   "source": [
    "\n",
    "# Case 1\n",
    "try:\n",
    "    print(f\"{str(llist)=}\")\n",
    "    llist.deleteNode( 1)\n",
    "    print(f\"{str(llist)=}\")\n",
    "    llist.deleteNode( 0)\n",
    "    print(f\"{str(llist)=}\")\n",
    "    llist.deleteNode( 6)\n",
    "    print(f\"{str(llist)=}\")\n",
    "    #llist5 = llist4deleteNode( 1)\n",
    "    #print(f\"{str(llist5)=}\")\n",
    "except LinkedListError as err:\n",
    "    print(err)\n",
    "except:\n",
    "    print(\"other error\")"
   ]
  },
  {
   "cell_type": "code",
   "execution_count": 423,
   "metadata": {},
   "outputs": [
    {
     "name": "stdout",
     "output_type": "stream",
     "text": [
      "12=>13=>9=>37=>7=>END, Length = 5\n",
      "Delete this node = 13 at position = 1\n",
      "Head: <class '__main__.Node'>, Length: 4\n",
      "Delete this node = 7 at position = 3\n",
      "Head: <class '__main__.Node'>, Length: 3\n",
      "12=>9=>37=>END, Length = 3\n"
     ]
    }
   ],
   "source": [
    "# Case 2\n",
    "try:\n",
    "    print(str(llist))\n",
    "    llist.deleteNode( 1)\n",
    "    llist.deleteNode( 3)\n",
    "    print(str(llist))\n",
    "except LinkedListError as err:\n",
    "    print(err)\n",
    "except:\n",
    "    print(\"other error\")\n"
   ]
  },
  {
   "cell_type": "code",
   "execution_count": null,
   "metadata": {},
   "outputs": [],
   "source": []
  },
  {
   "cell_type": "code",
   "execution_count": 498,
   "metadata": {},
   "outputs": [
    {
     "data": {
      "text/plain": [
       "'99=>16=>12=>13=>9=>37=>7=>END, Length = 7'"
      ]
     },
     "execution_count": 498,
     "metadata": {},
     "output_type": "execute_result"
    }
   ],
   "source": [
    "str(llist)"
   ]
  },
  {
   "cell_type": "code",
   "execution_count": 499,
   "metadata": {},
   "outputs": [
    {
     "name": "stdout",
     "output_type": "stream",
     "text": [
      "7<-37<-9<-13<-12<-16<-99<-"
     ]
    }
   ],
   "source": [
    "SinglyLinkedList.reverse(llist.head)"
   ]
  },
  {
   "cell_type": "code",
   "execution_count": 426,
   "metadata": {},
   "outputs": [
    {
     "data": {
      "text/plain": [
       "3"
      ]
     },
     "execution_count": 426,
     "metadata": {},
     "output_type": "execute_result"
    }
   ],
   "source": [
    "len(llist)"
   ]
  },
  {
   "cell_type": "code",
   "execution_count": 427,
   "metadata": {},
   "outputs": [
    {
     "data": {
      "text/plain": [
       "3"
      ]
     },
     "execution_count": 427,
     "metadata": {},
     "output_type": "execute_result"
    }
   ],
   "source": [
    "llist.length"
   ]
  },
  {
   "cell_type": "code",
   "execution_count": 428,
   "metadata": {},
   "outputs": [
    {
     "name": "stdout",
     "output_type": "stream",
     "text": [
      "sortedLst :  12=>END, Length = 1\n",
      "Inserting 9 into its correct position in sortedLst with Head=<class '__main__.Node'> length=1\n",
      "temp.data=9 , temp_retLst.data=12, pos_retLst=0\n",
      "Inserting 9 into  0, length=1\n",
      "Inserting 9 at the position 0 ... \n",
      "Head: <class '__main__.Node'>, Length: 2\n",
      "sortedLst :  9=>12=>END, Length = 2\n",
      "sortedLst :  9=>12=>END, Length = 2\n",
      "Inserting 37 into its correct position in sortedLst with Head=<class '__main__.Node'> length=2\n",
      "temp.data=37 , temp_retLst.data=9, pos_retLst=0\n",
      "temp.data=37 , temp_retLst.data=12, pos_retLst=1\n",
      "Inserting 37 into  2, length=2\n",
      "Inserting 37 at the last ... \n",
      "Head: <class '__main__.Node'>, Length: 3\n",
      "sortedLst :  9=>12=>37=>END, Length = 3\n"
     ]
    }
   ],
   "source": [
    "sortedLst2 = SinglyLinkedList.sortedList(llist)"
   ]
  },
  {
   "cell_type": "code",
   "execution_count": 483,
   "metadata": {},
   "outputs": [
    {
     "data": {
      "text/plain": [
       "'7=>9=>12=>13=>16=>37=>99=>END, Length = 7'"
      ]
     },
     "execution_count": 483,
     "metadata": {},
     "output_type": "execute_result"
    }
   ],
   "source": [
    "str(sortedLst)"
   ]
  },
  {
   "cell_type": "code",
   "execution_count": 484,
   "metadata": {},
   "outputs": [
    {
     "data": {
      "text/plain": [
       "'9=>12=>37=>END, Length = 3'"
      ]
     },
     "execution_count": 484,
     "metadata": {},
     "output_type": "execute_result"
    }
   ],
   "source": [
    "str(sortedLst2)"
   ]
  },
  {
   "cell_type": "code",
   "execution_count": 433,
   "metadata": {},
   "outputs": [],
   "source": [
    "def compare_lists(llist1, llist2):\n",
    "    retval = False\n",
    "    \n",
    "    if llist1 == None or llist2 == None:\n",
    "        return False\n",
    "    \n",
    "    temp1 = llist1.head\n",
    "    temp2 = llist2.head\n",
    "    \n",
    "    while True:        \n",
    "        if temp1 != None and temp2 != None:\n",
    "            if temp1.data == temp2.data:\n",
    "                retval = True\n",
    "                temp1 = temp1.next\n",
    "                temp2 = temp2.next\n",
    "            else:\n",
    "                retval = False\n",
    "                break\n",
    "        elif temp1 is None and temp2 is None:\n",
    "            retval = True\n",
    "            break\n",
    "        else:\n",
    "            retval = False\n",
    "            break\n",
    "    return retval\n",
    "                \n"
   ]
  },
  {
   "cell_type": "code",
   "execution_count": 434,
   "metadata": {
    "scrolled": true
   },
   "outputs": [
    {
     "data": {
      "text/plain": [
       "True"
      ]
     },
     "execution_count": 434,
     "metadata": {},
     "output_type": "execute_result"
    }
   ],
   "source": [
    "compare_lists(llist, llist)"
   ]
  },
  {
   "cell_type": "code",
   "execution_count": 435,
   "metadata": {},
   "outputs": [
    {
     "data": {
      "text/plain": [
       "False"
      ]
     },
     "execution_count": 435,
     "metadata": {},
     "output_type": "execute_result"
    }
   ],
   "source": [
    "compare_lists(llist, llist2)"
   ]
  },
  {
   "cell_type": "code",
   "execution_count": 437,
   "metadata": {},
   "outputs": [
    {
     "data": {
      "text/plain": [
       "'9=>END'"
      ]
     },
     "execution_count": 437,
     "metadata": {},
     "output_type": "execute_result"
    }
   ],
   "source": [
    "str(llist3)"
   ]
  },
  {
   "cell_type": "code",
   "execution_count": 439,
   "metadata": {},
   "outputs": [
    {
     "data": {
      "text/plain": [
       "False"
      ]
     },
     "execution_count": 439,
     "metadata": {},
     "output_type": "execute_result"
    }
   ],
   "source": [
    "compare_lists(llist, llist3)"
   ]
  },
  {
   "cell_type": "code",
   "execution_count": 440,
   "metadata": {},
   "outputs": [
    {
     "data": {
      "text/plain": [
       "False"
      ]
     },
     "execution_count": 440,
     "metadata": {},
     "output_type": "execute_result"
    }
   ],
   "source": [
    "compare_lists(sortedLst2, llist3)"
   ]
  },
  {
   "cell_type": "code",
   "execution_count": null,
   "metadata": {},
   "outputs": [],
   "source": []
  },
  {
   "cell_type": "code",
   "execution_count": null,
   "metadata": {},
   "outputs": [],
   "source": [
    "# merge and sort 2 linked lists"
   ]
  },
  {
   "cell_type": "code",
   "execution_count": 458,
   "metadata": {},
   "outputs": [
    {
     "data": {
      "text/plain": [
       "'99=>16=>12=>13=>9=>37=>7=>END, Length = 7'"
      ]
     },
     "execution_count": 458,
     "metadata": {},
     "output_type": "execute_result"
    }
   ],
   "source": [
    "str(llist)"
   ]
  },
  {
   "cell_type": "code",
   "execution_count": 459,
   "metadata": {},
   "outputs": [
    {
     "data": {
      "text/plain": [
       "'9=>12=>37=>END, Length = 3'"
      ]
     },
     "execution_count": 459,
     "metadata": {},
     "output_type": "execute_result"
    }
   ],
   "source": [
    "str(sortedLst2)"
   ]
  },
  {
   "cell_type": "code",
   "execution_count": null,
   "metadata": {},
   "outputs": [],
   "source": []
  },
  {
   "cell_type": "code",
   "execution_count": 500,
   "metadata": {},
   "outputs": [],
   "source": [
    "def mergeAndsortLinkedLists(llist1, llist2):\n",
    "    \n",
    "    if llist1 == None and llist2 == None:\n",
    "        raise LinkedListError(\"Both empty linked lists\")\n",
    "    else:\n",
    "        if llist1 == None:\n",
    "            return SinglyLinkedList.sortedList(llist2)\n",
    "        elif llist2 == None:\n",
    "            return SinglyLinkedList.sortedList(llist1)\n",
    "        else:\n",
    "\n",
    "            sortedLst = SinglyLinkedList.sortedList(llist1)\n",
    "\n",
    "            temp2 = llist2.head\n",
    "            while temp2 != None:\n",
    "                # insert temp2.data into the correct position within sortedList\n",
    "                # a) determine position to insert {temp2_pos}\n",
    "                \n",
    "                temp1 = sortedLst.head\n",
    "                temp2_pos = 0\n",
    "                while temp1 != None:\n",
    "                    if temp2.data > temp1.data: \n",
    "                        temp1 = temp1.next\n",
    "                        temp2_pos += 1\n",
    "                    else:\n",
    "                        break\n",
    "\n",
    "                # b) Do the insert into sortedLst\n",
    "                if temp2_pos == sortedLst.length:\n",
    "                    sortedLst.insertNodeAtLast(data=temp2.data)\n",
    "                else:\n",
    "                    sortedLst.insertNodeAtPosition(position=temp2_pos, data=temp2.data)\n",
    "                    \n",
    "                # c) Iterate\n",
    "                temp2 = temp2.next\n",
    "                \n",
    "            \n",
    "            return sortedLst"
   ]
  },
  {
   "cell_type": "code",
   "execution_count": 501,
   "metadata": {},
   "outputs": [
    {
     "data": {
      "text/plain": [
       "'99=>16=>12=>13=>9=>37=>7=>END, Length = 7'"
      ]
     },
     "execution_count": 501,
     "metadata": {},
     "output_type": "execute_result"
    }
   ],
   "source": [
    "str(llist)"
   ]
  },
  {
   "cell_type": "code",
   "execution_count": 502,
   "metadata": {},
   "outputs": [
    {
     "data": {
      "text/plain": [
       "'9=>END'"
      ]
     },
     "execution_count": 502,
     "metadata": {},
     "output_type": "execute_result"
    }
   ],
   "source": [
    "str(llist3)"
   ]
  },
  {
   "cell_type": "code",
   "execution_count": 503,
   "metadata": {},
   "outputs": [
    {
     "name": "stdout",
     "output_type": "stream",
     "text": [
      "sortedLst :  99=>END, Length = 1\n",
      "Inserting 16 into its correct position in sortedLst with Head=<class '__main__.Node'> length=1\n",
      "temp.data=16 , temp_retLst.data=99, pos_retLst=0\n",
      "Inserting 16 into  0, length=1\n",
      "Inserting 16 at the position 0 ... \n",
      "Head: <class '__main__.Node'>, Length: 2\n",
      "sortedLst :  16=>99=>END, Length = 2\n",
      "sortedLst :  16=>99=>END, Length = 2\n",
      "Inserting 12 into its correct position in sortedLst with Head=<class '__main__.Node'> length=2\n",
      "temp.data=12 , temp_retLst.data=16, pos_retLst=0\n",
      "Inserting 12 into  0, length=2\n",
      "Inserting 12 at the position 0 ... \n",
      "Head: <class '__main__.Node'>, Length: 3\n",
      "sortedLst :  12=>16=>99=>END, Length = 3\n",
      "sortedLst :  12=>16=>99=>END, Length = 3\n",
      "Inserting 13 into its correct position in sortedLst with Head=<class '__main__.Node'> length=3\n",
      "temp.data=13 , temp_retLst.data=12, pos_retLst=0\n",
      "temp.data=13 , temp_retLst.data=16, pos_retLst=1\n",
      "Inserting 13 into  1, length=3\n",
      "Inserting 13 at the position 1 ... \n",
      "Head: <class '__main__.Node'>, Length: 4\n",
      "sortedLst :  12=>13=>16=>99=>END, Length = 4\n",
      "sortedLst :  12=>13=>16=>99=>END, Length = 4\n",
      "Inserting 9 into its correct position in sortedLst with Head=<class '__main__.Node'> length=4\n",
      "temp.data=9 , temp_retLst.data=12, pos_retLst=0\n",
      "Inserting 9 into  0, length=4\n",
      "Inserting 9 at the position 0 ... \n",
      "Head: <class '__main__.Node'>, Length: 5\n",
      "sortedLst :  9=>12=>13=>16=>99=>END, Length = 5\n",
      "sortedLst :  9=>12=>13=>16=>99=>END, Length = 5\n",
      "Inserting 37 into its correct position in sortedLst with Head=<class '__main__.Node'> length=5\n",
      "temp.data=37 , temp_retLst.data=9, pos_retLst=0\n",
      "temp.data=37 , temp_retLst.data=12, pos_retLst=1\n",
      "temp.data=37 , temp_retLst.data=13, pos_retLst=2\n",
      "temp.data=37 , temp_retLst.data=16, pos_retLst=3\n",
      "temp.data=37 , temp_retLst.data=99, pos_retLst=4\n",
      "Inserting 37 into  4, length=5\n",
      "Inserting 37 at the position 4 ... \n",
      "Head: <class '__main__.Node'>, Length: 6\n",
      "sortedLst :  9=>12=>13=>16=>37=>99=>END, Length = 6\n",
      "sortedLst :  9=>12=>13=>16=>37=>99=>END, Length = 6\n",
      "Inserting 7 into its correct position in sortedLst with Head=<class '__main__.Node'> length=6\n",
      "temp.data=7 , temp_retLst.data=9, pos_retLst=0\n",
      "Inserting 7 into  0, length=6\n",
      "Inserting 7 at the position 0 ... \n",
      "Head: <class '__main__.Node'>, Length: 7\n",
      "sortedLst :  7=>9=>12=>13=>16=>37=>99=>END, Length = 7\n",
      "Inserting 9 at the position 1 ... \n",
      "Head: <class '__main__.Node'>, Length: 8\n"
     ]
    }
   ],
   "source": [
    "llist2 = mergeAndsortLinkedLists(llist, llist3)"
   ]
  },
  {
   "cell_type": "code",
   "execution_count": 504,
   "metadata": {},
   "outputs": [
    {
     "data": {
      "text/plain": [
       "'7=>9=>9=>12=>13=>16=>37=>99=>END, Length = 8'"
      ]
     },
     "execution_count": 504,
     "metadata": {},
     "output_type": "execute_result"
    }
   ],
   "source": [
    "str(llist2)"
   ]
  },
  {
   "cell_type": "code",
   "execution_count": 505,
   "metadata": {},
   "outputs": [
    {
     "name": "stdout",
     "output_type": "stream",
     "text": [
      "Duplicate node data ... 9 ... Deleting node at position = 1\n",
      "Delete this node = 9 at position = 1\n",
      "Head: <class '__main__.Node'>, Length: 7\n",
      "Reached end of list\n"
     ]
    }
   ],
   "source": [
    "llist2.delDuplicateNodesAfterSorting()"
   ]
  },
  {
   "cell_type": "code",
   "execution_count": 506,
   "metadata": {},
   "outputs": [
    {
     "data": {
      "text/plain": [
       "'7=>9=>12=>13=>16=>37=>99=>END, Length = 7'"
      ]
     },
     "execution_count": 506,
     "metadata": {},
     "output_type": "execute_result"
    }
   ],
   "source": [
    "str(llist2)"
   ]
  },
  {
   "cell_type": "code",
   "execution_count": null,
   "metadata": {},
   "outputs": [],
   "source": []
  }
 ],
 "metadata": {
  "kernelspec": {
   "display_name": "Python 3",
   "language": "python",
   "name": "python3"
  },
  "language_info": {
   "codemirror_mode": {
    "name": "ipython",
    "version": 3
   },
   "file_extension": ".py",
   "mimetype": "text/x-python",
   "name": "python",
   "nbconvert_exporter": "python",
   "pygments_lexer": "ipython3",
   "version": "3.8.5"
  }
 },
 "nbformat": 4,
 "nbformat_minor": 4
}
